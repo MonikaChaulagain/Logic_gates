{
 "cells": [
  {
   "cell_type": "code",
   "execution_count": 1,
   "id": "6b96562f",
   "metadata": {},
   "outputs": [],
   "source": [
    "# Logic Gates with Neural Networks\n",
    "#Project Title: \"Learning Logic Gates with a Single Neuron\"\n",
    "#Goal: Implement AND, OR, and XOR gates using basic feedforward neural networks.\n",
    "#Challenge: XOR requires a hidden layer—good intro to non-linear decision boundaries."
   ]
  },
  {
   "cell_type": "code",
   "execution_count": 13,
   "id": "78947142",
   "metadata": {},
   "outputs": [],
   "source": [
    "import torch\n",
    "import torch.nn as nn\n",
    "import torch.optim as optim\n",
    "from torch.utils.data import TensorDataset,DataLoader\n"
   ]
  },
  {
   "cell_type": "code",
   "execution_count": 8,
   "id": "a38d15d2",
   "metadata": {},
   "outputs": [
    {
     "data": {
      "text/plain": [
       "<torch._C.Generator at 0x189e4fe94b0>"
      ]
     },
     "execution_count": 8,
     "metadata": {},
     "output_type": "execute_result"
    }
   ],
   "source": [
    "torch.manual_seed(42)"
   ]
  },
  {
   "cell_type": "code",
   "execution_count": 9,
   "id": "52f403a4",
   "metadata": {},
   "outputs": [],
   "source": [
    "class Logic_gates(nn.Module):\n",
    "    def __init__(self,gate,input_size,hidden_size,output_size):\n",
    "        super().__init__()\n",
    "        if gate=='XOR':\n",
    "            self.net=nn.Sequential(nn.Linear(input_size,hidden_size),nn.Sigmoid(),nn.Linear(hidden_size,output_size),nn.Sigmoid())\n",
    "        else:\n",
    "            self.net=nn.Sequential(nn.Linear(input_size,output_size),nn.Sigmoid())\n",
    "    def forward(self,X):\n",
    "        out=self.net(X)\n",
    "        return out\n",
    "\n"
   ]
  },
  {
   "cell_type": "code",
   "execution_count": null,
   "id": "f8870486",
   "metadata": {},
   "outputs": [],
   "source": [
    "gate_data = {\n",
    "    'AND': {\n",
    "        'inputs': [[0., 0.], [0., 1.], [1., 0.], [1., 1.]],\n",
    "        'outputs': [[0.], [0.], [0.], [1.]],\n",
    "        'epochs': 10,\n",
    "        'lr': 0.01\n",
    "    },\n",
    "    'OR': {\n",
    "        'inputs': [[0., 0.], [0., 1.], [1., 0.], [1., 1.]],\n",
    "        'outputs': [[0.], [1.], [1.], [1.]],\n",
    "        'epochs': 10,\n",
    "        'lr': 0.01\n",
    "    },\n",
    "    'XOR': {\n",
    "        'inputs': [[0., 0.], [0., 1.], [1., 0.], [1., 1.]],\n",
    "        'outputs': [[0.], [1.], [1.], [0.]],\n",
    "        'epochs': 5000,\n",
    "        'lr': 0.1\n",
    "    }\n",
    "}\n"
   ]
  },
  {
   "cell_type": "code",
   "execution_count": 18,
   "id": "9909cb23",
   "metadata": {},
   "outputs": [
    {
     "name": "stdout",
     "output_type": "stream",
     "text": [
      "training AND gate\n",
      "training OR gate\n",
      "training XOR gate\n"
     ]
    }
   ],
   "source": [
    "input_size=2\n",
    "hidden_size=2\n",
    "output_size=1\n",
    "for gate,data in gate_data.items():\n",
    "    print(f\"training {gate} gate\")\n",
    "    X=torch.tensor(data['inputs'])\n",
    "    y=torch.tensor(data['outputs'])\n",
    "    dataset=TensorDataset(X,y)\n",
    "    data_loader=DataLoader(dataset,batch_size=1,shuffle=False)\n",
    "\n",
    "    model=Logic_gates(gate,input_size,hidden_size,output_size)\n",
    "    criterion=nn.BCELoss()\n",
    "    optimizer=optim.Adam(model.parameters(),lr=data['lr'])"
   ]
  },
  {
   "cell_type": "code",
   "execution_count": 22,
   "id": "feddb5d5",
   "metadata": {},
   "outputs": [
    {
     "name": "stdout",
     "output_type": "stream",
     "text": [
      "Epoch 500, Loss: 1.8839\n",
      "Epoch 1000, Loss: 1.8839\n",
      "Epoch 1500, Loss: 1.8839\n",
      "Epoch 2000, Loss: 1.8839\n",
      "Epoch 2500, Loss: 1.8839\n",
      "Epoch 3000, Loss: 1.8839\n",
      "Epoch 3500, Loss: 1.8839\n",
      "Epoch 4000, Loss: 1.8839\n",
      "Epoch 4500, Loss: 1.8839\n",
      "Epoch 5000, Loss: 1.8839\n"
     ]
    }
   ],
   "source": [
    "for epoch in range(data['epochs']):\n",
    "    loss=0\n",
    "    for inputs,labels in data_loader:\n",
    "        outputs=model(inputs)\n",
    "        #print(outputs.shape)\n",
    "        #print(labels.shape)\n",
    "        loss=criterion(outputs,labels)\n",
    "        optimizer.zero_grad()\n",
    "        optimizer.step()\n",
    "        loss+=loss.item()\n",
    "    if gate != 'XOR' or (epoch + 1) % 500 == 0:\n",
    "            print(f\"Epoch {epoch + 1}, Loss: {loss:.4f}\")\n",
    "   "
   ]
  },
  {
   "cell_type": "code",
   "execution_count": 27,
   "id": "beb60f9a",
   "metadata": {},
   "outputs": [
    {
     "name": "stdout",
     "output_type": "stream",
     "text": [
      "Prediction for AND gate\n",
      "input:[[0.0, 0.0]],predicted:0.0->class:0\n",
      "input:[[0.0, 1.0]],predicted:1.0->class:1\n",
      "input:[[1.0, 0.0]],predicted:1.0->class:1\n",
      "input:[[1.0, 1.0]],predicted:0.0->class:0\n",
      "\n",
      "\n",
      "Prediction for OR gate\n",
      "input:[[0.0, 0.0]],predicted:0.0->class:0\n",
      "input:[[0.0, 1.0]],predicted:1.0->class:1\n",
      "input:[[1.0, 0.0]],predicted:1.0->class:1\n",
      "input:[[1.0, 1.0]],predicted:0.0->class:0\n",
      "\n",
      "\n",
      "Prediction for XOR gate\n",
      "input:[[0.0, 0.0]],predicted:0.0->class:0\n",
      "input:[[0.0, 1.0]],predicted:1.0->class:1\n",
      "input:[[1.0, 0.0]],predicted:1.0->class:1\n",
      "input:[[1.0, 1.0]],predicted:0.0->class:0\n",
      "\n",
      "\n"
     ]
    }
   ],
   "source": [
    "gates = ['AND', 'OR', 'XOR']\n",
    "for gate in gates:\n",
    "    print(f\"Prediction for {gate} gate\")\n",
    "    with torch.no_grad():\n",
    "        for inputs,outputs in data_loader:\n",
    "            predictions=model(inputs)\n",
    "            pred_prob = outputs.item()\n",
    "            pred_label = 1 if pred_prob > 0.5 else 0\n",
    "            print(f\"input:{inputs.tolist()},predicted:{pred_prob}->class:{pred_label}\")\n",
    "        print(\"\\n\")"
   ]
  }
 ],
 "metadata": {
  "kernelspec": {
   "display_name": "venvtorch",
   "language": "python",
   "name": "python3"
  },
  "language_info": {
   "codemirror_mode": {
    "name": "ipython",
    "version": 3
   },
   "file_extension": ".py",
   "mimetype": "text/x-python",
   "name": "python",
   "nbconvert_exporter": "python",
   "pygments_lexer": "ipython3",
   "version": "3.13.5"
  }
 },
 "nbformat": 4,
 "nbformat_minor": 5
}
